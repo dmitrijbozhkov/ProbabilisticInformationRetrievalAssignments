{
 "cells": [
  {
   "cell_type": "markdown",
   "metadata": {},
   "source": [
    "# Homework 1"
   ]
  },
  {
   "cell_type": "markdown",
   "metadata": {},
   "source": [
    "## Problem 1"
   ]
  },
  {
   "cell_type": "markdown",
   "metadata": {},
   "source": [
    "Let __A__ be $m×n$ and **B** be $n×p$."
   ]
  },
  {
   "cell_type": "markdown",
   "metadata": {},
   "source": [
    "Prove:\n",
    "$$(AB)^T=B^TA^T$$"
   ]
  },
  {
   "cell_type": "markdown",
   "metadata": {},
   "source": [
    "Lets represent **A** and __B__ as:"
   ]
  },
  {
   "cell_type": "markdown",
   "metadata": {},
   "source": [
    "$$A=k_{m,n} ; B=l_{n,p}$$\n",
    "$$A^T=k_{n,m} ; B^T=l_{p,n}$$"
   ]
  },
  {
   "cell_type": "markdown",
   "metadata": {},
   "source": [
    "Now if we multiply row m of **A** and column p of __B__"
   ]
  },
  {
   "cell_type": "markdown",
   "metadata": {},
   "source": [
    "$$AB=h_{m,p}$$"
   ]
  },
  {
   "cell_type": "markdown",
   "metadata": {},
   "source": [
    "Then we transpose multiplication, results in getting multiplied row p of **B** and colum m of __A__"
   ]
  },
  {
   "cell_type": "markdown",
   "metadata": {},
   "source": [
    "$$(AB)^T=h_{p,m}$$"
   ]
  },
  {
   "cell_type": "markdown",
   "metadata": {},
   "source": [
    "And if we multiply transposed row p of $B^T$ and row m of $A^T$ we get the same thing"
   ]
  },
  {
   "cell_type": "markdown",
   "metadata": {},
   "source": [
    "$$B^TA^T=h_{p,m}$$"
   ]
  },
  {
   "cell_type": "markdown",
   "metadata": {},
   "source": [
    "## Problem 2"
   ]
  },
  {
   "cell_type": "markdown",
   "metadata": {},
   "source": [
    "(a) Let **A** and __B__ be $n×n$ and invertible matrices."
   ]
  },
  {
   "cell_type": "markdown",
   "metadata": {},
   "source": [
    "Prove:\n",
    "$$(AB)^{-1}=B^{-1}A^{-1}$$"
   ]
  },
  {
   "cell_type": "markdown",
   "metadata": {},
   "source": [
    "First we multiply each side by __AB__:"
   ]
  },
  {
   "cell_type": "markdown",
   "metadata": {},
   "source": [
    "$$(AB)^{-1}(AB)=B^{-1}A^{-1}(AB)$$"
   ]
  },
  {
   "cell_type": "markdown",
   "metadata": {},
   "source": [
    "On the left side of the equasion $(AB)^{-1}(AB)=I$ and the right side we can represent as $B^{-1}A^{-1}(AB)=B^{-1}(A^{-1}A)B$, this way we get:\n",
    "$$I=B^{-1}(A^{-1}A)B$$"
   ]
  },
  {
   "cell_type": "markdown",
   "metadata": {},
   "source": [
    "And applying the same rule for the $A^{-1}A$:\n",
    "$$I=B^{-1}IB$$"
   ]
  },
  {
   "cell_type": "markdown",
   "metadata": {},
   "source": [
    "Since $IB=B$ we can write abowe statement as follows:\n",
    "$$I=B^{-1}B$$"
   ]
  },
  {
   "cell_type": "markdown",
   "metadata": {},
   "source": [
    "And $B^{-1}B=I$ this way we get:\n",
    "$$I=I$$"
   ]
  },
  {
   "cell_type": "markdown",
   "metadata": {},
   "source": [
    "(b)Let $VDV^{-1}$ be an eigendecomposition of a matrix $A$, i.e. $V=[v^{(1)}, ..., v^{(n)}]$ and $D=diag([\\lambda_1, ..., \\lambda_n]^T)$, where $v^{(i)}$ are eigenvectors and $\\lambda_i$ are eigenvalues of $A$."
   ]
  },
  {
   "cell_type": "markdown",
   "metadata": {},
   "source": [
    "Prove:\n",
    "$$A^m=VD^mV^{-1}$$"
   ]
  },
  {
   "cell_type": "markdown",
   "metadata": {},
   "source": [
    "Lets take the first element of a sequence:\n",
    "$$A=VDV^{-1}$$"
   ]
  },
  {
   "cell_type": "markdown",
   "metadata": {},
   "source": [
    "This way we can represent $A^m$ as:\n",
    "$$A*A*...=(VDV^{-1})*(VDV^{-1})*...$$"
   ]
  },
  {
   "cell_type": "markdown",
   "metadata": {},
   "source": [
    "Which we can simplify:\n",
    "$$A*A*...=VD(V^{-1}V)DV^{-1}*...$$\n",
    "$$A*A*...=V*D*D*...*V^{-1}$$"
   ]
  },
  {
   "cell_type": "markdown",
   "metadata": {},
   "source": [
    "Which we can represent like our initial statement:\n",
    "$$A^m=VD^mV^{-1}$$"
   ]
  },
  {
   "cell_type": "markdown",
   "metadata": {},
   "source": [
    "## Problem 3"
   ]
  },
  {
   "cell_type": "markdown",
   "metadata": {},
   "source": [
    "Let $y=Ax$ where $y$ is $m \\times 1$, $x$ is $n \\times 1$, A is $m \\times n$, and $A$ does not depnd on $x$. Suppose that $x$ is a function of a vector $z$, while $A$ is independent of $z$. "
   ]
  },
  {
   "cell_type": "markdown",
   "metadata": {},
   "source": [
    "Prove:\n",
    "$$\\frac{dy}{dz}=\\frac{dx}{dz}A^T$$"
   ]
  },
  {
   "cell_type": "markdown",
   "metadata": {},
   "source": [
    "Using chain rule $\\frac{dy}{dz}=\\frac{dy}{dx}\\frac{dx}{dz}$ we write above statement as:\n",
    "$$\\frac{dy}{dx}\\frac{dx}{dz}=\\frac{dx}{dz}A^T$$"
   ]
  },
  {
   "cell_type": "markdown",
   "metadata": {},
   "source": [
    "Now we simplify $\\frac{dx}{dz}$ from each side:\n",
    "$$\\frac{dy}{dx}=A^T$$"
   ]
  },
  {
   "cell_type": "markdown",
   "metadata": {},
   "source": [
    "Then we differenciate $y=Ax$ by $dx$, thus we get:\n",
    "$$\\frac{dy}{dx}=A$$"
   ]
  },
  {
   "cell_type": "markdown",
   "metadata": {},
   "source": [
    "This means, that matrix $A$ can only be symmetrical and $m \\times n$ of $A$ are equal $m = n$\n",
    "$$A=A^T$$"
   ]
  },
  {
   "cell_type": "markdown",
   "metadata": {},
   "source": [
    "Now we can multiply $\\frac{dy}{dx}=A$ by $\\frac{dx}{dz}$ and get\n",
    "$$\\frac{dx}{dz}\\frac{dy}{dx}=\\frac{dx}{dz}A$$"
   ]
  },
  {
   "cell_type": "markdown",
   "metadata": {},
   "source": [
    "Which is equal to:\n",
    "$$\\frac{dy}{dz}=\\frac{dx}{dz}A^T$$"
   ]
  },
  {
   "cell_type": "markdown",
   "metadata": {},
   "source": [
    "## Problem 4"
   ]
  },
  {
   "cell_type": "markdown",
   "metadata": {},
   "source": [
    "Let the scalar $a$ be defined as $a=y^TAx$ where $y$ is $m \\times 1$, $x$ is $n \\times 1$, $A$ is $m \\times n$, and $A$ is independent of $x$ and $y$."
   ]
  },
  {
   "cell_type": "markdown",
   "metadata": {},
   "source": [
    "Prove:\n",
    "$$\\frac{da}{dy}=Ax$$"
   ]
  },
  {
   "cell_type": "markdown",
   "metadata": {},
   "source": [
    "Since $a$ is a scalar: \n",
    "$$a=a^T=yA^Tx^T$$"
   ]
  },
  {
   "cell_type": "markdown",
   "metadata": {},
   "source": [
    "Now we can differenciate $a^T=yA^Tx^T$ by $dy$:\n",
    "$$\\frac{da}{dy}=A^Tx^T$$"
   ]
  },
  {
   "cell_type": "markdown",
   "metadata": {},
   "source": [
    "Because $a$ is a scalar we can transpose right statement back:\n",
    "$$\\frac{da}{dy}=Ax$$"
   ]
  },
  {
   "cell_type": "markdown",
   "metadata": {},
   "source": [
    "## Problem 5"
   ]
  },
  {
   "cell_type": "markdown",
   "metadata": {},
   "source": [
    "Importing packages"
   ]
  },
  {
   "cell_type": "code",
   "execution_count": 3,
   "metadata": {},
   "outputs": [],
   "source": [
    "import numpy as np"
   ]
  },
  {
   "cell_type": "markdown",
   "metadata": {},
   "source": [
    "Reading sentences from file and save it into sentences list"
   ]
  },
  {
   "cell_type": "code",
   "execution_count": 4,
   "metadata": {},
   "outputs": [
    {
     "data": {
      "text/plain": [
       "[\"a midsummer-night's dream now , fair hippolyta , our nuptial hour draws on apace : four happy days bring in another moon ; but o !\\n\",\n",
       " \"methinks how slow this old moon wanes ; she lingers my desires , like to a step dame , or a dowager long withering out a young man's revenue .\\n\",\n",
       " 'four days will quickly steep themselves in night ; four nights will quickly dream away the time ; and then the moon , like to a silver bow new-bent in heaven , shall behold the night of our solemnities .\\n']"
      ]
     },
     "execution_count": 4,
     "metadata": {},
     "output_type": "execute_result"
    }
   ],
   "source": [
    "file = open(\"shakespeare_sentences.txt\", \"r\")\n",
    "sentences = [x for x in file]\n",
    "file.close()\n",
    "sentences[:3]"
   ]
  },
  {
   "cell_type": "markdown",
   "metadata": {},
   "source": [
    "Defining a function, that searches for the most k frequent words in our sentences"
   ]
  },
  {
   "cell_type": "code",
   "execution_count": 5,
   "metadata": {},
   "outputs": [],
   "source": [
    "def get_top_k_words(sentences, k):\n",
    "    \"\"\"Return the k most frequent words as a list.\"\"\"\n",
    "    word_frequencies = {} # define frequency dictionary\n",
    "    words = [word.lower() for s in sentences for word in s.split()] # get words and make them lower case\n",
    "    for word in words: # count each word occurence\n",
    "        if word_frequencies.get(word):\n",
    "            word_frequencies[word] += 1\n",
    "        else:\n",
    "            word_frequencies[word] = 1\n",
    "    top_k = sorted(word_frequencies.items(), key=lambda f: f[1], reverse=True)[:k] # sort words by their frequencies and take k most frequent of them\n",
    "    return [top[0] for top in top_k] # return just words"
   ]
  },
  {
   "cell_type": "markdown",
   "metadata": {},
   "source": [
    "Taking 15 most occuring words"
   ]
  },
  {
   "cell_type": "code",
   "execution_count": 6,
   "metadata": {},
   "outputs": [
    {
     "data": {
      "text/plain": [
       "[',',\n",
       " '.',\n",
       " 'the',\n",
       " 'and',\n",
       " 'i',\n",
       " 'to',\n",
       " ';',\n",
       " 'of',\n",
       " 'you',\n",
       " 'a',\n",
       " 'my',\n",
       " 'that',\n",
       " ':',\n",
       " '!',\n",
       " 'in']"
      ]
     },
     "execution_count": 6,
     "metadata": {},
     "output_type": "execute_result"
    }
   ],
   "source": [
    "vocabulary = get_top_k_words(sentences, 15)\n",
    "vocabulary"
   ]
  },
  {
   "cell_type": "markdown",
   "metadata": {},
   "source": [
    "Defining a function, that will represent sentence as a vector with values representing each word as dimention."
   ]
  },
  {
   "cell_type": "code",
   "execution_count": 7,
   "metadata": {},
   "outputs": [],
   "source": [
    "def encode(sentence, vocabulary):\n",
    "    \"\"\"Return a vector encoding the sentence.\"\"\"\n",
    "    vector = np.zeros(len(vocabulary)) # define null vector\n",
    "    words = [word.lower() for word in sentence.split()] # make every word lowercase\n",
    "    for w in words: # match each word and its corresponding dimention in vector\n",
    "        for i, v in enumerate(vocabulary):\n",
    "            if v == w:\n",
    "                vector[i] += 1\n",
    "    return vector"
   ]
  },
  {
   "cell_type": "markdown",
   "metadata": {},
   "source": [
    "Defining a function to count euclidian norm of a vector \n",
    "$$||v||=\\sqrt{\\sum\\limits_{i=0}^{n}v_i^2}$$"
   ]
  },
  {
   "cell_type": "code",
   "execution_count": 8,
   "metadata": {},
   "outputs": [],
   "source": [
    "def norm(v):\n",
    "    \"\"\"Return vector norm\"\"\"\n",
    "    temp = 0\n",
    "    for i in v:\n",
    "        temp += i ** 2\n",
    "    return temp ** (1/2)"
   ]
  },
  {
   "cell_type": "markdown",
   "metadata": {},
   "source": [
    "Defining a function to count cosine similarity of two vectors\n",
    "$$sim(u, v)=\\dfrac{u \\cdot v}{||u||_2||v||_2}$$"
   ]
  },
  {
   "cell_type": "code",
   "execution_count": 9,
   "metadata": {},
   "outputs": [],
   "source": [
    "def cosine_sim(u, v):\n",
    "    \"\"\"Return the cosine similarity of u and v.\"\"\"\n",
    "    norm_u = norm(u) # calculate norm of vector u\n",
    "    norm_v = norm(v) # calculate norm of vector v\n",
    "    if not norm_u or not norm_v: # if one of the vectors is null vector - return 0\n",
    "        return 0\n",
    "    dot = 0\n",
    "    for i, val in enumerate(u): # calculate dot product of each element\n",
    "        dot += val * v[i]\n",
    "    sim = dot / (norm_u * norm_v) # divide dot product by norm multiplication\n",
    "    return int(sim * 10000) / 10000 # fix floats and round them"
   ]
  },
  {
   "cell_type": "markdown",
   "metadata": {},
   "source": [
    "Defining a function, that returns l most similar sentences to our query sentence"
   ]
  },
  {
   "cell_type": "code",
   "execution_count": 10,
   "metadata": {},
   "outputs": [],
   "source": [
    "def get_top_l_sentences(sentences, query, vocabulary, l):\n",
    "    \"\"\"\n",
    "    For every sentence in \"sentences\", calculate the similarity to the query.\n",
    "    Sort the sentences by their similarities to the query.\n",
    "\n",
    "    Return the top-l most similar sentences as a list of tuples of the form\n",
    "    (similarity, sentence).\n",
    "    \"\"\"\n",
    "    encoded_query = encode(query, vocabulary) # encode query sentence\n",
    "    similarities = [(cosine_sim(encode(s, vocabulary), encoded_query), s) for s in sentences] # calculate cosine similarity between each sentence and given query\n",
    "    return sorted(similarities, key=lambda s: s[0], reverse=True)[:l] # sort the most similar sentences and get tom l of them"
   ]
  },
  {
   "cell_type": "markdown",
   "metadata": {},
   "source": [
    "Now we can get 10 most similar sentences by our vocabulary to our forth sentence"
   ]
  },
  {
   "cell_type": "code",
   "execution_count": 16,
   "metadata": {},
   "outputs": [
    {
     "data": {
      "text/plain": [
       "[(1.0,\n",
       "  'four days will quickly steep themselves in night ; four nights will quickly dream away the time ; and then the moon , like to a silver bow new-bent in heaven , shall behold the night of our solemnities .\\n'),\n",
       " (0.9518,\n",
       "  \"if hamlet give the first or second hit , or quit in answer of the third exchange , let all the battlements their ordnance fire ; the king shall drink to hamlet's better breath ; and in the cup an union shall he throw , richer than that which four successive kings in denmark's crown have worn .\\n\"),\n",
       " (0.9486,\n",
       "  \"in the corrupted currents of this world offence's gilded hand may shove by justice , and oft 'tis seen the wicked prise itself buys out the law ; but 'tis not so above ; there is no shuffling , there the action lies in his true nature , and we ourselves compell'd even to the teeth and forehead of our faults to give in evidence .\\n\"),\n",
       " (0.9456,\n",
       "  \"'tis true ; there's magic in the web of it ; a sibyl , that had number'd in the world the sun to course two hundred compasses , in her prophetic fury sew'd the work ; the worms were hallow'd that did breed the silk , and it was dy'd in mummy which the skilful conserv'd of maidens' hearts .\\n\"),\n",
       " (0.9424,\n",
       "  \"though't be a sportful combat , yet in the trial much opinion dwells ; for here the trojans taste our dear'st repute with their fin'st palate : and trust to me , ulysses , our imputation shall be oddly pois'd in this wild action ; for the success , although particular , shall give a scantling of good or bad unto the general ; and in such indexes , although small pricks to their subsequent volumes , there is seen the baby figure of the giant mass of things to come at large .\\n\"),\n",
       " (0.9302,\n",
       "  \"the april's in her eyes ; it is love's spring , and these the showers to bring it on .\\n\"),\n",
       " (0.9281,\n",
       "  'this very day , a syracusian merchant is apprehended for arrival here ; and , not being able to buy out his life , according to the statute of the town dies ere the weary sun set in the west .\\n'),\n",
       " (0.9271,\n",
       "  'there is a tide in the affairs of men , which , taken at the flood , leads on to fortune ; omitted , all the voyage of their life is bound in shallows and in miseries .\\n'),\n",
       " (0.9269,\n",
       "  'i make a broken delivery of the business ; but the changes i perceived in the king and camillo were very notes of admiration : they seemed almost , with staring on one another , to tear the cases of their eyes ; there was speech in their dumbness , language in their very gesture ; they looked as they had heard of a world ransomed , or one destroyed : a notable passion of wonder appeared in them ; but the wisest beholder , that knew no more but seeing , could not say if the importance were joy or sorrow ; but in the extremity of the one it must needs be .\\n'),\n",
       " (0.9265,\n",
       "  \"alcibiades , thou art a soldier , therefore seldom rich ; it comes in charity to thee ; for all thy living is 'mongst the dead , and all the lands thou hast lie in a pitch'd field .\\n\")]"
      ]
     },
     "execution_count": 16,
     "metadata": {},
     "output_type": "execute_result"
    }
   ],
   "source": [
    "get_top_l_sentences(sentences, sentences[2], vocabulary, 10)"
   ]
  },
  {
   "cell_type": "markdown",
   "metadata": {},
   "source": [
    "As you can see sentence itself has similarity of 1, and all other sentences will get lesser value, depending on the occurence of vocabulary words."
   ]
  },
  {
   "cell_type": "code",
   "execution_count": 15,
   "metadata": {},
   "outputs": [
    {
     "data": {
      "text/plain": [
       "'four days will quickly steep themselves in night ; four nights will quickly dream away the time ; and then the moon , like to a silver bow new-bent in heaven , shall behold the night of our solemnities .\\n'"
      ]
     },
     "execution_count": 15,
     "metadata": {},
     "output_type": "execute_result"
    }
   ],
   "source": [
    "sentences[2]"
   ]
  }
 ],
 "metadata": {
  "kernelspec": {
   "display_name": "Python 3",
   "language": "python",
   "name": "python3"
  },
  "language_info": {
   "codemirror_mode": {
    "name": "ipython",
    "version": 3
   },
   "file_extension": ".py",
   "mimetype": "text/x-python",
   "name": "python",
   "nbconvert_exporter": "python",
   "pygments_lexer": "ipython3",
   "version": "3.6.3"
  }
 },
 "nbformat": 4,
 "nbformat_minor": 2
}
